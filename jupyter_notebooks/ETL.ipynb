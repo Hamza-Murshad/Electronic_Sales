{
  "cells": [
    {
      "cell_type": "markdown",
      "metadata": {
        "id": "0aStgWSO0E0E"
      },
      "source": [
        "# **(ADD THE NOTEBOOK NAME HERE)**"
      ]
    },
    {
      "cell_type": "markdown",
      "metadata": {
        "id": "1eLEkw5O0ECa"
      },
      "source": [
        "## Objectives\n",
        "\n",
        "* Write your notebook objective here, for example, \"Fetch data from Kaggle and save as raw data\", or \"engineer features for modelling\"\n",
        "\n",
        "## Inputs\n",
        "\n",
        "* Write down which data or information you need to run the notebook \n",
        "\n",
        "## Outputs\n",
        "\n",
        "* Write here which files, code or artefacts you generate by the end of the notebook \n",
        "\n",
        "## Additional Comments\n",
        "\n",
        "* If you have any additional comments that don't fit in the previous bullets, please state them here. \n",
        "\n"
      ]
    },
    {
      "cell_type": "markdown",
      "metadata": {
        "id": "9uWZXH9LwoQg"
      },
      "source": [
        "---"
      ]
    },
    {
      "cell_type": "markdown",
      "metadata": {
        "id": "cqP-UeN-z3i2"
      },
      "source": [
        "# Change working directory"
      ]
    },
    {
      "cell_type": "markdown",
      "metadata": {},
      "source": [
        "* We are assuming you will store the notebooks in a subfolder, therefore when running the notebook in the editor, you will need to change the working directory"
      ]
    },
    {
      "cell_type": "markdown",
      "metadata": {
        "id": "aOGIGS-uz3i2"
      },
      "source": [
        "We need to change the working directory from its current folder to its parent folder\n",
        "* We access the current directory with os.getcwd()"
      ]
    },
    {
      "cell_type": "code",
      "execution_count": 1,
      "metadata": {
        "id": "wZfF_j-Bz3i4",
        "outputId": "66943449-1436-4c3d-85c7-b85f9f78349b"
      },
      "outputs": [
        {
          "data": {
            "text/plain": [
              "'c:\\\\Hamas\\\\AI\\\\AI_Projects\\\\Code_Institute_Projects\\\\electronic_sales_project\\\\Electronic_Sales\\\\jupyter_notebooks'"
            ]
          },
          "execution_count": 1,
          "metadata": {},
          "output_type": "execute_result"
        }
      ],
      "source": [
        "import os\n",
        "current_dir = os.getcwd()\n",
        "current_dir"
      ]
    },
    {
      "cell_type": "markdown",
      "metadata": {
        "id": "9MWW8E7lz3i7"
      },
      "source": [
        "We want to make the parent of the current directory the new current directory\n",
        "* os.path.dirname() gets the parent directory\n",
        "* os.chir() defines the new current directory"
      ]
    },
    {
      "cell_type": "code",
      "execution_count": 2,
      "metadata": {
        "id": "TwHsQRWjz3i9",
        "outputId": "86849db3-cd2f-4cc5-ebb8-2d0caafa1a2c"
      },
      "outputs": [
        {
          "name": "stdout",
          "output_type": "stream",
          "text": [
            "You set a new current directory\n"
          ]
        }
      ],
      "source": [
        "os.chdir(os.path.dirname(current_dir))\n",
        "print(\"You set a new current directory\")"
      ]
    },
    {
      "cell_type": "markdown",
      "metadata": {
        "id": "M_xPk_Ijz3i-"
      },
      "source": [
        "Confirm the new current directory"
      ]
    },
    {
      "cell_type": "code",
      "execution_count": 3,
      "metadata": {
        "id": "vz3S-_kjz3jA",
        "outputId": "00b79ae4-75d0-4a96-d193-ac9ef9847ea2"
      },
      "outputs": [
        {
          "data": {
            "text/plain": [
              "'c:\\\\Hamas\\\\AI\\\\AI_Projects\\\\Code_Institute_Projects\\\\electronic_sales_project\\\\Electronic_Sales'"
            ]
          },
          "execution_count": 3,
          "metadata": {},
          "output_type": "execute_result"
        }
      ],
      "source": [
        "current_dir = os.getcwd()\n",
        "current_dir"
      ]
    },
    {
      "cell_type": "markdown",
      "metadata": {
        "id": "-mavJ8DibrcQ"
      },
      "source": [
        "# Section 1"
      ]
    },
    {
      "cell_type": "markdown",
      "metadata": {},
      "source": [
        "Loading and Viewing the Dataset:"
      ]
    },
    {
      "cell_type": "code",
      "execution_count": 6,
      "metadata": {},
      "outputs": [],
      "source": [
        "import pandas as pd\n",
        "import numpy as np\n"
      ]
    },
    {
      "cell_type": "code",
      "execution_count": 7,
      "metadata": {},
      "outputs": [],
      "source": [
        "df = pd.read_csv('dataset/raw/electronic_sales.csv')"
      ]
    },
    {
      "cell_type": "code",
      "execution_count": 8,
      "metadata": {},
      "outputs": [
        {
          "data": {
            "text/html": [
              "<div>\n",
              "<style scoped>\n",
              "    .dataframe tbody tr th:only-of-type {\n",
              "        vertical-align: middle;\n",
              "    }\n",
              "\n",
              "    .dataframe tbody tr th {\n",
              "        vertical-align: top;\n",
              "    }\n",
              "\n",
              "    .dataframe thead th {\n",
              "        text-align: right;\n",
              "    }\n",
              "</style>\n",
              "<table border=\"1\" class=\"dataframe\">\n",
              "  <thead>\n",
              "    <tr style=\"text-align: right;\">\n",
              "      <th></th>\n",
              "      <th>Customer ID</th>\n",
              "      <th>Age</th>\n",
              "      <th>Gender</th>\n",
              "      <th>Loyalty Member</th>\n",
              "      <th>Product Type</th>\n",
              "      <th>SKU</th>\n",
              "      <th>Rating</th>\n",
              "      <th>Order Status</th>\n",
              "      <th>Payment Method</th>\n",
              "      <th>Total Price</th>\n",
              "      <th>Unit Price</th>\n",
              "      <th>Quantity</th>\n",
              "      <th>Purchase Date</th>\n",
              "      <th>Shipping Type</th>\n",
              "      <th>Add-ons Purchased</th>\n",
              "      <th>Add-on Total</th>\n",
              "    </tr>\n",
              "  </thead>\n",
              "  <tbody>\n",
              "    <tr>\n",
              "      <th>0</th>\n",
              "      <td>1000</td>\n",
              "      <td>53</td>\n",
              "      <td>Male</td>\n",
              "      <td>No</td>\n",
              "      <td>Smartphone</td>\n",
              "      <td>SKU1004</td>\n",
              "      <td>2</td>\n",
              "      <td>Cancelled</td>\n",
              "      <td>Credit Card</td>\n",
              "      <td>5538.33</td>\n",
              "      <td>791.19</td>\n",
              "      <td>7</td>\n",
              "      <td>2024-03-20</td>\n",
              "      <td>Standard</td>\n",
              "      <td>Accessory,Accessory,Accessory</td>\n",
              "      <td>40.21</td>\n",
              "    </tr>\n",
              "    <tr>\n",
              "      <th>1</th>\n",
              "      <td>1000</td>\n",
              "      <td>53</td>\n",
              "      <td>Male</td>\n",
              "      <td>No</td>\n",
              "      <td>Tablet</td>\n",
              "      <td>SKU1002</td>\n",
              "      <td>3</td>\n",
              "      <td>Completed</td>\n",
              "      <td>Paypal</td>\n",
              "      <td>741.09</td>\n",
              "      <td>247.03</td>\n",
              "      <td>3</td>\n",
              "      <td>2024-04-20</td>\n",
              "      <td>Overnight</td>\n",
              "      <td>Impulse Item</td>\n",
              "      <td>26.09</td>\n",
              "    </tr>\n",
              "    <tr>\n",
              "      <th>2</th>\n",
              "      <td>1002</td>\n",
              "      <td>41</td>\n",
              "      <td>Male</td>\n",
              "      <td>No</td>\n",
              "      <td>Laptop</td>\n",
              "      <td>SKU1005</td>\n",
              "      <td>3</td>\n",
              "      <td>Completed</td>\n",
              "      <td>Credit Card</td>\n",
              "      <td>1855.84</td>\n",
              "      <td>463.96</td>\n",
              "      <td>4</td>\n",
              "      <td>2023-10-17</td>\n",
              "      <td>Express</td>\n",
              "      <td>NaN</td>\n",
              "      <td>0.00</td>\n",
              "    </tr>\n",
              "    <tr>\n",
              "      <th>3</th>\n",
              "      <td>1002</td>\n",
              "      <td>41</td>\n",
              "      <td>Male</td>\n",
              "      <td>Yes</td>\n",
              "      <td>Smartphone</td>\n",
              "      <td>SKU1004</td>\n",
              "      <td>2</td>\n",
              "      <td>Completed</td>\n",
              "      <td>Cash</td>\n",
              "      <td>3164.76</td>\n",
              "      <td>791.19</td>\n",
              "      <td>4</td>\n",
              "      <td>2024-08-09</td>\n",
              "      <td>Overnight</td>\n",
              "      <td>Impulse Item,Impulse Item</td>\n",
              "      <td>60.16</td>\n",
              "    </tr>\n",
              "    <tr>\n",
              "      <th>4</th>\n",
              "      <td>1003</td>\n",
              "      <td>75</td>\n",
              "      <td>Male</td>\n",
              "      <td>Yes</td>\n",
              "      <td>Smartphone</td>\n",
              "      <td>SKU1001</td>\n",
              "      <td>5</td>\n",
              "      <td>Completed</td>\n",
              "      <td>Cash</td>\n",
              "      <td>41.50</td>\n",
              "      <td>20.75</td>\n",
              "      <td>2</td>\n",
              "      <td>2024-05-21</td>\n",
              "      <td>Express</td>\n",
              "      <td>Accessory</td>\n",
              "      <td>35.56</td>\n",
              "    </tr>\n",
              "    <tr>\n",
              "      <th>...</th>\n",
              "      <td>...</td>\n",
              "      <td>...</td>\n",
              "      <td>...</td>\n",
              "      <td>...</td>\n",
              "      <td>...</td>\n",
              "      <td>...</td>\n",
              "      <td>...</td>\n",
              "      <td>...</td>\n",
              "      <td>...</td>\n",
              "      <td>...</td>\n",
              "      <td>...</td>\n",
              "      <td>...</td>\n",
              "      <td>...</td>\n",
              "      <td>...</td>\n",
              "      <td>...</td>\n",
              "      <td>...</td>\n",
              "    </tr>\n",
              "    <tr>\n",
              "      <th>19995</th>\n",
              "      <td>19996</td>\n",
              "      <td>27</td>\n",
              "      <td>Female</td>\n",
              "      <td>No</td>\n",
              "      <td>Smartphone</td>\n",
              "      <td>SMP234</td>\n",
              "      <td>4</td>\n",
              "      <td>Completed</td>\n",
              "      <td>Bank Transfer</td>\n",
              "      <td>6838.08</td>\n",
              "      <td>1139.68</td>\n",
              "      <td>6</td>\n",
              "      <td>2024-06-15</td>\n",
              "      <td>Expedited</td>\n",
              "      <td>NaN</td>\n",
              "      <td>0.00</td>\n",
              "    </tr>\n",
              "    <tr>\n",
              "      <th>19996</th>\n",
              "      <td>19996</td>\n",
              "      <td>27</td>\n",
              "      <td>Female</td>\n",
              "      <td>Yes</td>\n",
              "      <td>Laptop</td>\n",
              "      <td>LTP123</td>\n",
              "      <td>4</td>\n",
              "      <td>Cancelled</td>\n",
              "      <td>Credit Card</td>\n",
              "      <td>2697.28</td>\n",
              "      <td>674.32</td>\n",
              "      <td>4</td>\n",
              "      <td>2024-07-18</td>\n",
              "      <td>Standard</td>\n",
              "      <td>NaN</td>\n",
              "      <td>0.00</td>\n",
              "    </tr>\n",
              "    <tr>\n",
              "      <th>19997</th>\n",
              "      <td>19996</td>\n",
              "      <td>27</td>\n",
              "      <td>Female</td>\n",
              "      <td>No</td>\n",
              "      <td>Headphones</td>\n",
              "      <td>HDP456</td>\n",
              "      <td>4</td>\n",
              "      <td>Completed</td>\n",
              "      <td>Bank Transfer</td>\n",
              "      <td>1805.90</td>\n",
              "      <td>361.18</td>\n",
              "      <td>5</td>\n",
              "      <td>2024-08-26</td>\n",
              "      <td>Standard</td>\n",
              "      <td>Impulse Item, Extended Warranty, Accessory</td>\n",
              "      <td>198.98</td>\n",
              "    </tr>\n",
              "    <tr>\n",
              "      <th>19998</th>\n",
              "      <td>19997</td>\n",
              "      <td>27</td>\n",
              "      <td>Male</td>\n",
              "      <td>No</td>\n",
              "      <td>Headphones</td>\n",
              "      <td>HDP456</td>\n",
              "      <td>1</td>\n",
              "      <td>Cancelled</td>\n",
              "      <td>Bank Transfer</td>\n",
              "      <td>2528.26</td>\n",
              "      <td>361.18</td>\n",
              "      <td>7</td>\n",
              "      <td>2024-01-06</td>\n",
              "      <td>Expedited</td>\n",
              "      <td>Extended Warranty, Accessory</td>\n",
              "      <td>101.34</td>\n",
              "    </tr>\n",
              "    <tr>\n",
              "      <th>19999</th>\n",
              "      <td>19998</td>\n",
              "      <td>27</td>\n",
              "      <td>NaN</td>\n",
              "      <td>Yes</td>\n",
              "      <td>Laptop</td>\n",
              "      <td>LTP123</td>\n",
              "      <td>4</td>\n",
              "      <td>Completed</td>\n",
              "      <td>Bank Transfer</td>\n",
              "      <td>674.32</td>\n",
              "      <td>674.32</td>\n",
              "      <td>1</td>\n",
              "      <td>2024-01-29</td>\n",
              "      <td>Expedited</td>\n",
              "      <td>NaN</td>\n",
              "      <td>0.00</td>\n",
              "    </tr>\n",
              "  </tbody>\n",
              "</table>\n",
              "<p>20000 rows × 16 columns</p>\n",
              "</div>"
            ],
            "text/plain": [
              "       Customer ID  Age  Gender Loyalty Member Product Type      SKU  Rating  \\\n",
              "0             1000   53    Male             No   Smartphone  SKU1004       2   \n",
              "1             1000   53    Male             No       Tablet  SKU1002       3   \n",
              "2             1002   41    Male             No       Laptop  SKU1005       3   \n",
              "3             1002   41    Male            Yes   Smartphone  SKU1004       2   \n",
              "4             1003   75    Male            Yes   Smartphone  SKU1001       5   \n",
              "...            ...  ...     ...            ...          ...      ...     ...   \n",
              "19995        19996   27  Female             No   Smartphone   SMP234       4   \n",
              "19996        19996   27  Female            Yes       Laptop   LTP123       4   \n",
              "19997        19996   27  Female             No   Headphones   HDP456       4   \n",
              "19998        19997   27    Male             No   Headphones   HDP456       1   \n",
              "19999        19998   27     NaN            Yes       Laptop   LTP123       4   \n",
              "\n",
              "      Order Status Payment Method  Total Price  Unit Price  Quantity  \\\n",
              "0        Cancelled    Credit Card      5538.33      791.19         7   \n",
              "1        Completed         Paypal       741.09      247.03         3   \n",
              "2        Completed    Credit Card      1855.84      463.96         4   \n",
              "3        Completed           Cash      3164.76      791.19         4   \n",
              "4        Completed           Cash        41.50       20.75         2   \n",
              "...            ...            ...          ...         ...       ...   \n",
              "19995    Completed  Bank Transfer      6838.08     1139.68         6   \n",
              "19996    Cancelled    Credit Card      2697.28      674.32         4   \n",
              "19997    Completed  Bank Transfer      1805.90      361.18         5   \n",
              "19998    Cancelled  Bank Transfer      2528.26      361.18         7   \n",
              "19999    Completed  Bank Transfer       674.32      674.32         1   \n",
              "\n",
              "      Purchase Date Shipping Type                           Add-ons Purchased  \\\n",
              "0        2024-03-20      Standard               Accessory,Accessory,Accessory   \n",
              "1        2024-04-20     Overnight                                Impulse Item   \n",
              "2        2023-10-17       Express                                         NaN   \n",
              "3        2024-08-09     Overnight                   Impulse Item,Impulse Item   \n",
              "4        2024-05-21       Express                                   Accessory   \n",
              "...             ...           ...                                         ...   \n",
              "19995    2024-06-15     Expedited                                         NaN   \n",
              "19996    2024-07-18      Standard                                         NaN   \n",
              "19997    2024-08-26      Standard  Impulse Item, Extended Warranty, Accessory   \n",
              "19998    2024-01-06     Expedited                Extended Warranty, Accessory   \n",
              "19999    2024-01-29     Expedited                                         NaN   \n",
              "\n",
              "       Add-on Total  \n",
              "0             40.21  \n",
              "1             26.09  \n",
              "2              0.00  \n",
              "3             60.16  \n",
              "4             35.56  \n",
              "...             ...  \n",
              "19995          0.00  \n",
              "19996          0.00  \n",
              "19997        198.98  \n",
              "19998        101.34  \n",
              "19999          0.00  \n",
              "\n",
              "[20000 rows x 16 columns]"
            ]
          },
          "execution_count": 8,
          "metadata": {},
          "output_type": "execute_result"
        }
      ],
      "source": [
        "df"
      ]
    },
    {
      "cell_type": "code",
      "execution_count": 9,
      "metadata": {},
      "outputs": [
        {
          "data": {
            "text/plain": [
              "<bound method DataFrame.info of        Customer ID  Age  Gender Loyalty Member Product Type      SKU  Rating  \\\n",
              "0             1000   53    Male             No   Smartphone  SKU1004       2   \n",
              "1             1000   53    Male             No       Tablet  SKU1002       3   \n",
              "2             1002   41    Male             No       Laptop  SKU1005       3   \n",
              "3             1002   41    Male            Yes   Smartphone  SKU1004       2   \n",
              "4             1003   75    Male            Yes   Smartphone  SKU1001       5   \n",
              "...            ...  ...     ...            ...          ...      ...     ...   \n",
              "19995        19996   27  Female             No   Smartphone   SMP234       4   \n",
              "19996        19996   27  Female            Yes       Laptop   LTP123       4   \n",
              "19997        19996   27  Female             No   Headphones   HDP456       4   \n",
              "19998        19997   27    Male             No   Headphones   HDP456       1   \n",
              "19999        19998   27     NaN            Yes       Laptop   LTP123       4   \n",
              "\n",
              "      Order Status Payment Method  Total Price  Unit Price  Quantity  \\\n",
              "0        Cancelled    Credit Card      5538.33      791.19         7   \n",
              "1        Completed         Paypal       741.09      247.03         3   \n",
              "2        Completed    Credit Card      1855.84      463.96         4   \n",
              "3        Completed           Cash      3164.76      791.19         4   \n",
              "4        Completed           Cash        41.50       20.75         2   \n",
              "...            ...            ...          ...         ...       ...   \n",
              "19995    Completed  Bank Transfer      6838.08     1139.68         6   \n",
              "19996    Cancelled    Credit Card      2697.28      674.32         4   \n",
              "19997    Completed  Bank Transfer      1805.90      361.18         5   \n",
              "19998    Cancelled  Bank Transfer      2528.26      361.18         7   \n",
              "19999    Completed  Bank Transfer       674.32      674.32         1   \n",
              "\n",
              "      Purchase Date Shipping Type                           Add-ons Purchased  \\\n",
              "0        2024-03-20      Standard               Accessory,Accessory,Accessory   \n",
              "1        2024-04-20     Overnight                                Impulse Item   \n",
              "2        2023-10-17       Express                                         NaN   \n",
              "3        2024-08-09     Overnight                   Impulse Item,Impulse Item   \n",
              "4        2024-05-21       Express                                   Accessory   \n",
              "...             ...           ...                                         ...   \n",
              "19995    2024-06-15     Expedited                                         NaN   \n",
              "19996    2024-07-18      Standard                                         NaN   \n",
              "19997    2024-08-26      Standard  Impulse Item, Extended Warranty, Accessory   \n",
              "19998    2024-01-06     Expedited                Extended Warranty, Accessory   \n",
              "19999    2024-01-29     Expedited                                         NaN   \n",
              "\n",
              "       Add-on Total  \n",
              "0             40.21  \n",
              "1             26.09  \n",
              "2              0.00  \n",
              "3             60.16  \n",
              "4             35.56  \n",
              "...             ...  \n",
              "19995          0.00  \n",
              "19996          0.00  \n",
              "19997        198.98  \n",
              "19998        101.34  \n",
              "19999          0.00  \n",
              "\n",
              "[20000 rows x 16 columns]>"
            ]
          },
          "execution_count": 9,
          "metadata": {},
          "output_type": "execute_result"
        }
      ],
      "source": [
        "df.info"
      ]
    },
    {
      "cell_type": "code",
      "execution_count": 10,
      "metadata": {},
      "outputs": [
        {
          "data": {
            "text/plain": [
              "Customer ID             0\n",
              "Age                     0\n",
              "Gender                  1\n",
              "Loyalty Member          0\n",
              "Product Type            0\n",
              "SKU                     0\n",
              "Rating                  0\n",
              "Order Status            0\n",
              "Payment Method          0\n",
              "Total Price             0\n",
              "Unit Price              0\n",
              "Quantity                0\n",
              "Purchase Date           0\n",
              "Shipping Type           0\n",
              "Add-ons Purchased    4868\n",
              "Add-on Total            0\n",
              "dtype: int64"
            ]
          },
          "execution_count": 10,
          "metadata": {},
          "output_type": "execute_result"
        }
      ],
      "source": [
        "df.isnull().sum()"
      ]
    },
    {
      "cell_type": "markdown",
      "metadata": {
        "id": "ZY3l0-AxO93d"
      },
      "source": [
        "---"
      ]
    },
    {
      "cell_type": "markdown",
      "metadata": {
        "id": "uFQo3ycuO-v6"
      },
      "source": [
        "# Section 2"
      ]
    },
    {
      "cell_type": "markdown",
      "metadata": {},
      "source": [
        "Section 2 content"
      ]
    },
    {
      "cell_type": "code",
      "execution_count": null,
      "metadata": {},
      "outputs": [],
      "source": []
    },
    {
      "cell_type": "markdown",
      "metadata": {},
      "source": [
        "---"
      ]
    },
    {
      "cell_type": "markdown",
      "metadata": {},
      "source": [
        "NOTE"
      ]
    },
    {
      "cell_type": "markdown",
      "metadata": {},
      "source": [
        "* You may add as many sections as you want, as long as it supports your project workflow.\n",
        "* All notebook's cells should be run top-down (you can't create a dynamic wherein a given point you need to go back to a previous cell to execute some task, like go back to a previous cell and refresh a variable content)"
      ]
    },
    {
      "cell_type": "markdown",
      "metadata": {},
      "source": [
        "---"
      ]
    },
    {
      "cell_type": "markdown",
      "metadata": {
        "id": "ltNetd085qHf"
      },
      "source": [
        "# Push files to Repo"
      ]
    },
    {
      "cell_type": "markdown",
      "metadata": {},
      "source": [
        "* In cases where you don't need to push files to Repo, you may replace this section with \"Conclusions and Next Steps\" and state your conclusions and next steps."
      ]
    },
    {
      "cell_type": "code",
      "execution_count": null,
      "metadata": {
        "id": "aKlnIozA4eQO",
        "outputId": "fd09bc1f-adb1-4511-f6ce-492a6af570c0"
      },
      "outputs": [],
      "source": [
        "import os\n",
        "try:\n",
        "  # create your folder here\n",
        "  # os.makedirs(name='')\n",
        "except Exception as e:\n",
        "  print(e)\n"
      ]
    }
  ],
  "metadata": {
    "accelerator": "GPU",
    "colab": {
      "name": "Data Practitioner Jupyter Notebook.ipynb",
      "provenance": [],
      "toc_visible": true
    },
    "kernelspec": {
      "display_name": ".venv",
      "language": "python",
      "name": "python3"
    },
    "language_info": {
      "codemirror_mode": {
        "name": "ipython",
        "version": 3
      },
      "file_extension": ".py",
      "mimetype": "text/x-python",
      "name": "python",
      "nbconvert_exporter": "python",
      "pygments_lexer": "ipython3",
      "version": "3.12.8"
    },
    "orig_nbformat": 2
  },
  "nbformat": 4,
  "nbformat_minor": 2
}
